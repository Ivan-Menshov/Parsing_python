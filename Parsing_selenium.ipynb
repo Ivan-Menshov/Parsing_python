{
 "cells": [
  {
   "cell_type": "code",
   "execution_count": 12,
   "id": "5b998fa8",
   "metadata": {},
   "outputs": [],
   "source": [
    "# pip install selenium"
   ]
  },
  {
   "cell_type": "code",
   "execution_count": 13,
   "id": "13b0f0ac",
   "metadata": {},
   "outputs": [],
   "source": [
    "#pip install webdriver-manager"
   ]
  },
  {
   "cell_type": "code",
   "execution_count": 1,
   "id": "753983ba",
   "metadata": {},
   "outputs": [],
   "source": [
    "import json\n",
    "from selenium import webdriver\n",
    "from selenium.webdriver.common.by import By\n",
    "from selenium.common.exceptions import NoSuchElementException\n",
    "\n",
    "from selenium.webdriver.chrome.service import Service as ChromeService\n",
    "from webdriver_manager.chrome import ChromeDriverManager"
   ]
  },
  {
   "cell_type": "code",
   "execution_count": 2,
   "id": "2b684f78",
   "metadata": {},
   "outputs": [
    {
     "name": "stderr",
     "output_type": "stream",
     "text": [
      "[WDM] - Downloading: 100%|████████████████████████████████████████████████████████| 6.78M/6.78M [00:00<00:00, 9.97MB/s]\n"
     ]
    }
   ],
   "source": [
    "def save_json(path, data):\n",
    "    with open(path, 'w', encoding='utf-8') as f:\n",
    "        json.dump(data, f, indent=4)\n",
    "\n",
    "\n",
    "def get_people_pages(agent):\n",
    "    links = agent.find_elements(By.XPATH, '//tbody/tr/td/a')\n",
    "\n",
    "    return [link.get_attribute('href') for link in links]\n",
    "\n",
    "\n",
    "def get_person_info(agent, url):\n",
    "    agent.get(url)\n",
    "    skils= agent.find_elements(By.XPATH, '//span[@class=\"skills-item\"]')\n",
    "\n",
    "    return {\n",
    "        'name': agent.find_element(By.XPATH, '//div[@class=\"person-name\"]/p').text,\n",
    "        'gender': agent.find_element(By.XPATH, '//span[@class=\"gender\"]').text,\n",
    "        'age': agent.find_element(By.XPATH, '//span[@class=\"age\"]').text,  # !!!\n",
    "        'skills': [skil.text for skil in skils],  # !!!\n",
    "        'previous_company': agent.find_element(By.XPATH, '//span[@class=\"previous-company\"]').text,\n",
    "        'desired_salary': agent.find_element(By.XPATH, '//span[@class=\"salary\"]').text,\n",
    "        'location': {\n",
    "            'lat': agent.find_elements(By.XPATH, '//span[@class=\"lat\"]')[0].text,\n",
    "            'lon': agent.find_elements(By.XPATH, '//span[@class=\"lat\"]')[1].text\n",
    "        },\n",
    "        'register_date': agent.find_element(By.XPATH, '//span[@class=\"registered\"]').text  # !!!\n",
    "    }\n",
    "\n",
    "\n",
    "if __name__ == '__main__':\n",
    "    service = ChromeService(executable_path=ChromeDriverManager().install())\n",
    "    driver = webdriver.Chrome(service=service)\n",
    "\n",
    "    driver.get('https://iirmephi.ru/tutorials/jobhunt/')\n",
    "\n",
    "    pages = []\n",
    "    while True:\n",
    "        try:\n",
    "            pages += get_people_pages(driver)\n",
    "            next_button = driver.find_element(By.XPATH, '//li[@class=\"next\"]/a')\n",
    "            next_button.click()\n",
    "        except NoSuchElementException as err:\n",
    "            break\n",
    "\n",
    "    result = []\n",
    "    for page in pages:\n",
    "        info = get_person_info(driver, page)\n",
    "        result.append(info)\n",
    "    save_json(f'result.json', result)\n",
    "\n",
    "    driver.close()\n"
   ]
  },
  {
   "cell_type": "code",
   "execution_count": null,
   "id": "e4851255",
   "metadata": {},
   "outputs": [],
   "source": []
  }
 ],
 "metadata": {
  "kernelspec": {
   "display_name": "Python 3 (ipykernel)",
   "language": "python",
   "name": "python3"
  },
  "language_info": {
   "codemirror_mode": {
    "name": "ipython",
    "version": 3
   },
   "file_extension": ".py",
   "mimetype": "text/x-python",
   "name": "python",
   "nbconvert_exporter": "python",
   "pygments_lexer": "ipython3",
   "version": "3.9.7"
  }
 },
 "nbformat": 4,
 "nbformat_minor": 5
}
